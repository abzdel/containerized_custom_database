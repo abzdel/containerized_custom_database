{
 "cells": [
  {
   "cell_type": "code",
   "execution_count": 1,
   "metadata": {},
   "outputs": [],
   "source": [
    "import sqlite3\n"
   ]
  },
  {
   "cell_type": "code",
   "execution_count": 2,
   "metadata": {},
   "outputs": [],
   "source": [
    "connection = sqlite3.connect(\"../mydb.db\")\n",
    "\n",
    "cursor = connection.cursor()\n"
   ]
  },
  {
   "cell_type": "markdown",
   "metadata": {},
   "source": [
    "## Questions I'd like to answer\n",
    "\n",
    "2) What is the average chance of admission for each university rating?\n",
    "2) What is the average GRE score of a student highly likely to be admitted to the highest rated university? (let's call highly likely >90%)\n",
    "3) How many students with research have a <50% chance of admission?\n",
    "4) How many students with a GRE score <320 have a >75% chance to be admitted to any university?\n",
    "5) What is the mean toefl score of students who apply to the highest rated universities?"
   ]
  },
  {
   "cell_type": "markdown",
   "metadata": {},
   "source": [
    "### QUERY 1"
   ]
  },
  {
   "cell_type": "code",
   "execution_count": 3,
   "metadata": {},
   "outputs": [
    {
     "data": {
      "text/plain": [
       "[(1, 0.5480769230769232),\n",
       " (2, 0.6259813084112147),\n",
       " (3, 0.7118796992481206),\n",
       " (4, 0.8181081081081082),\n",
       " (5, 0.8881666666666668)]"
      ]
     },
     "execution_count": 3,
     "metadata": {},
     "output_type": "execute_result"
    }
   ],
   "source": [
    "# write a sql query to find the average chance of admit for each university rating\n",
    "cursor.execute(\"\"\"\n",
    "\n",
    "select university_rating, avg(chance_of_admit) from college_admissions group by university_rating\n",
    "\n",
    "\n",
    "\"\"\").fetchall()\n"
   ]
  },
  {
   "cell_type": "markdown",
   "metadata": {},
   "source": [
    "### QUERY 2"
   ]
  },
  {
   "cell_type": "code",
   "execution_count": 4,
   "metadata": {},
   "outputs": [
    {
     "data": {
      "text/plain": [
       "[(332.5625,)]"
      ]
     },
     "execution_count": 4,
     "metadata": {},
     "output_type": "execute_result"
    }
   ],
   "source": [
    "# write a sql query to find the average GRE score of a student highly likely to be admitted to the highest rated university? (let's call highly likely >90%)\n",
    "\n",
    "cursor.execute(\"\"\"\n",
    "select avg(gre) from college_admissions where university_rating = 5 and chance_of_admit > 0.9\n",
    "\"\"\").fetchall()\n"
   ]
  },
  {
   "cell_type": "markdown",
   "metadata": {},
   "source": [
    "### QUERY 3"
   ]
  },
  {
   "cell_type": "code",
   "execution_count": 5,
   "metadata": {},
   "outputs": [
    {
     "data": {
      "text/plain": [
       "[(6,)]"
      ]
     },
     "execution_count": 5,
     "metadata": {},
     "output_type": "execute_result"
    }
   ],
   "source": [
    "# write a sql query to find how many students with research have a <50% chance of admission?\n",
    "\n",
    "cursor.execute(\"\"\"\n",
    "select count(*) from college_admissions where research = 1 and chance_of_admit < 0.5\n",
    "\"\"\").fetchall()\n"
   ]
  },
  {
   "cell_type": "markdown",
   "metadata": {},
   "source": [
    "### QUERY 4"
   ]
  },
  {
   "cell_type": "code",
   "execution_count": 6,
   "metadata": {},
   "outputs": [
    {
     "data": {
      "text/plain": [
       "[(26,)]"
      ]
     },
     "execution_count": 6,
     "metadata": {},
     "output_type": "execute_result"
    }
   ],
   "source": [
    "# sql query to find How many students with a GRE score <320 have a >75% chance to be admitted to any university?\n",
    "\n",
    "cursor.execute(\"\"\"\n",
    "select count(*) from college_admissions where gre < 320 and chance_of_admit > 0.75\n",
    "\"\"\").fetchall()\n"
   ]
  },
  {
   "cell_type": "markdown",
   "metadata": {},
   "source": [
    "### QUERY 5"
   ]
  },
  {
   "cell_type": "code",
   "execution_count": 7,
   "metadata": {},
   "outputs": [
    {
     "data": {
      "text/plain": [
       "[(113.66666666666667,)]"
      ]
     },
     "execution_count": 7,
     "metadata": {},
     "output_type": "execute_result"
    }
   ],
   "source": [
    "# sql query to find the mean toefl score of students who apply to the highest rated universities?\n",
    "\n",
    "cursor.execute(\"\"\"\n",
    "select avg(toefl) from college_admissions where university_rating = 5\n",
    "\"\"\").fetchall()\n"
   ]
  }
 ],
 "metadata": {
  "kernelspec": {
   "display_name": "Python 3.10.4 64-bit",
   "language": "python",
   "name": "python3"
  },
  "language_info": {
   "codemirror_mode": {
    "name": "ipython",
    "version": 3
   },
   "file_extension": ".py",
   "mimetype": "text/x-python",
   "name": "python",
   "nbconvert_exporter": "python",
   "pygments_lexer": "ipython3",
   "version": "3.10.4"
  },
  "orig_nbformat": 4,
  "vscode": {
   "interpreter": {
    "hash": "3ad933181bd8a04b432d3370b9dc3b0662ad032c4dfaa4e4f1596c548f763858"
   }
  }
 },
 "nbformat": 4,
 "nbformat_minor": 2
}
